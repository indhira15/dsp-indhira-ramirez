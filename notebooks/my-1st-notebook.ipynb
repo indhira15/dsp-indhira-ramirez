{
 "cells": [
  {
   "cell_type": "code",
   "execution_count": 1,
   "id": "b068e141",
   "metadata": {},
   "outputs": [],
   "source": [
    "import numpy as np"
   ]
  },
  {
   "cell_type": "code",
   "execution_count": 2,
   "id": "03277b6e",
   "metadata": {},
   "outputs": [],
   "source": [
    "arr = np.random.randint(0,1000,(10,3))"
   ]
  },
  {
   "cell_type": "code",
   "execution_count": 3,
   "id": "b6394267",
   "metadata": {},
   "outputs": [
    {
     "data": {
      "text/plain": [
       "array([[394, 249, 826],\n",
       "       [789, 727, 865],\n",
       "       [977, 152, 802],\n",
       "       [826, 991, 624],\n",
       "       [804, 706, 422],\n",
       "       [616, 398, 911],\n",
       "       [421, 859, 964],\n",
       "       [367, 389, 288],\n",
       "       [868,  74, 781],\n",
       "       [127, 673, 204]])"
      ]
     },
     "execution_count": 3,
     "metadata": {},
     "output_type": "execute_result"
    }
   ],
   "source": [
    "arr"
   ]
  },
  {
   "cell_type": "code",
   "execution_count": null,
   "id": "07bec650",
   "metadata": {},
   "outputs": [],
   "source": []
  }
 ],
 "metadata": {
  "kernelspec": {
   "display_name": "Python 3 (ipykernel)",
   "language": "python",
   "name": "python3"
  },
  "language_info": {
   "codemirror_mode": {
    "name": "ipython",
    "version": 3
   },
   "file_extension": ".py",
   "mimetype": "text/x-python",
   "name": "python",
   "nbconvert_exporter": "python",
   "pygments_lexer": "ipython3",
   "version": "3.9.13"
  }
 },
 "nbformat": 4,
 "nbformat_minor": 5
}
